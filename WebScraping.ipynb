{
  "nbformat": 4,
  "nbformat_minor": 0,
  "metadata": {
    "colab": {
      "provenance": [],
      "authorship_tag": "ABX9TyPyji1++NoiawiRGCMiNoYS",
      "include_colab_link": true
    },
    "kernelspec": {
      "name": "python3",
      "display_name": "Python 3"
    },
    "language_info": {
      "name": "python"
    }
  },
  "cells": [
    {
      "cell_type": "markdown",
      "metadata": {
        "id": "view-in-github",
        "colab_type": "text"
      },
      "source": [
        "<a href=\"https://colab.research.google.com/github/fiazdev/Python/blob/main/WebScraping.ipynb\" target=\"_parent\"><img src=\"https://colab.research.google.com/assets/colab-badge.svg\" alt=\"Open In Colab\"/></a>"
      ]
    },
    {
      "cell_type": "code",
      "source": [
        "from bs4 import BeautifulSoup\n",
        "\n",
        "html=\"\"\"<!doctype html>\n",
        "<html lang=\"en\">\n",
        "   <head>\n",
        "      <meta charset=\"utf-8\">\n",
        "      <meta name=\"viewport\" content=\"width=device-width, initial-scale=1, shrink-to-fit=no\">\n",
        "      <link rel=\"stylesheet\" href=\"https://stackpath.bootstrapcdn.com/bootstrap/4.5.2/css/bootstrap.min.css\" integrity=\"sha384-JcKb8q3iqJ61gNV9KGb8thSsNjpSL0n8PARn9HuZOnIxN0hoP+VmmDGMN5t9UJ0Z\" crossorigin=\"anonymous\">\n",
        "      <title>My Courses</title>\n",
        "   </head>\n",
        "   <body>\n",
        "      <h1>Hello, Start Learning!</h1>\n",
        "      <div class=\"card\" id=\"card-python-for-beginners\">\n",
        "         <div class=\"card-header\">\n",
        "            Python\n",
        "         </div>\n",
        "         <div class=\"card-body\">\n",
        "            <h5 class=\"card-title\">Python for beginners</h5>\n",
        "            <p class=\"card-text\">If you are new to Python, this is the course that you should buy!</p>\n",
        "            <a href=\"#\" class=\"btn btn-primary\">Start for 20$</a>\n",
        "         </div>\n",
        "      </div>\n",
        "      <div class=\"card\" id=\"card-python-web-development\">\n",
        "         <div class=\"card-header\">\n",
        "            Python\n",
        "         </div>\n",
        "         <div class=\"card-body\">\n",
        "            <h5 class=\"card-title\">Python Web Development</h5>\n",
        "            <p class=\"card-text\">If you feel enough confident with python, you are ready to learn how to create your own website!</p>\n",
        "            <a href=\"#\" class=\"btn btn-primary\">Start for 50$</a>\n",
        "         </div>\n",
        "      </div>\n",
        "      <div class=\"card\" id=\"card-python-machine-learning\">\n",
        "         <div class=\"card-header\">\n",
        "            Python\n",
        "         </div>\n",
        "         <div class=\"card-body\">\n",
        "            <h5 class=\"card-title\">Python Machine Learning</h5>\n",
        "            <p class=\"card-text\">Become a Python Machine Learning master!</p>\n",
        "            <a href=\"#\" class=\"btn btn-primary\">Start for 100$</a>\n",
        "         </div>\n",
        "      </div>\n",
        "   </body>\n",
        "</html>\"\"\"\n",
        "\n",
        "soup=BeautifulSoup(html, \"lxml\")\n",
        "course_card=soup.find_all('div',class_='card')\n",
        "\n",
        "for course in course_card:\n",
        "  coursename=course.h5.text\n",
        "  courseprice=course.a.text.split()[-1]\n",
        "  print(f'{coursename} cost {courseprice}')\n",
        "\n"
      ],
      "metadata": {
        "colab": {
          "base_uri": "https://localhost:8080/"
        },
        "id": "1rPUFB9Y6ALf",
        "outputId": "d4b27b28-8e80-48e9-a9c6-736ce35661f9"
      },
      "execution_count": 68,
      "outputs": [
        {
          "output_type": "stream",
          "name": "stdout",
          "text": [
            "Python for beginners cost 20$\n",
            "Python Web Development cost 50$\n",
            "Python Machine Learning cost 100$\n"
          ]
        }
      ]
    },
    {
      "cell_type": "code",
      "source": [
        "import requests\n",
        "from bs4 import BeautifulSoup\n",
        "import time\n",
        "\n",
        "print(\"Put some skills that you are not familiar with\")\n",
        "unfamiliar_skills=input('>')\n",
        "print(f'Filltering out {unfamiliar_skills}')\n",
        "\n",
        "def find_jobs():\n",
        "  html_text=requests.get('https://www.timesjobs.com/candidate/job-search.html?searchType=personalizedSearch&from=submit&txtKeywords=Python&txtLocation=').text\n",
        "  soup=BeautifulSoup(html_text, 'lxml')\n",
        "  jobs=soup.find_all('li', class_='clearfix job-bx wht-shd-bx')\n",
        "\n",
        "  for job in jobs:\n",
        "    published_date=job.find('span', class_='sim-posted').span.text\n",
        "    if 'few' in published_date:\n",
        "          company_name=job.find('h3', class_='joblist-comp-name').text.replace(' ','')\n",
        "          skills=job.find('span', class_='srp-skills').text.replace(' ','')\n",
        "          more_info=job.header.h2.a['href']\n",
        "          if unfamiliar_skills not in skills:\n",
        "            print(f\"Company Name: {company_name.strip()}\")\n",
        "            print(f\"Required Skills: {skills.strip()}\")\n",
        "            print(f'More Infor: {more_info}')\n",
        "            print('----------------------------')\n",
        "\n",
        "\n",
        "if __name__=='__main__':\n",
        "  while True:\n",
        "    find_jobs()\n",
        "    time_wait=10\n",
        "    time.sleep(time_wait * 60)\n",
        "\n"
      ],
      "metadata": {
        "colab": {
          "base_uri": "https://localhost:8080/",
          "height": 1000
        },
        "id": "BCwTynWxdhPU",
        "outputId": "7374fd0e-e0bf-4cb5-a6fb-bb119bfebeac"
      },
      "execution_count": 108,
      "outputs": [
        {
          "output_type": "stream",
          "name": "stdout",
          "text": [
            "Put some skills that you are not familiar with\n",
            ">hadoop\n",
            "Filltering out hadoop\n",
            "Company Name: arttechnologyandsoftwareindiapvtltd\n",
            "Required Skills: rest,python,database,django,api\n",
            "More Infor: https://www.timesjobs.com/job-detail/python-developer-art-technology-and-software-india-pvt-ltd-cochin-kochi-ernakulam-2-to-3-yrs-jobid-M26lxDEd__PLUS__qtzpSvf__PLUS__uAgZw==&source=srp\n",
            "----------------------------\n",
            "Company Name: DREAMAJAXTECHNOLOGIES\n",
            "Required Skills: python,django,api,sql,nosql\n",
            "More Infor: https://www.timesjobs.com/job-detail/python-developer-dreamajax-technologies-bengaluru-bangalore-4-to-7-yrs-jobid-EWIVCDzRLKBzpSvf__PLUS__uAgZw==&source=srp\n",
            "----------------------------\n",
            "Company Name: SourcedeskGlobalPrivateLimited\n",
            "Required Skills: html5,storage,python,javascript,django,infrastructure\n",
            "More Infor: https://www.timesjobs.com/job-detail/python-developer-sourcedesk-global-private-limited-kolkata-3-to-15-yrs-jobid-A27Uf03p2IJzpSvf__PLUS__uAgZw==&source=srp\n",
            "----------------------------\n",
            "Company Name: InnOvatorWebSolutionsPvt.Ltd.\n",
            "Required Skills: rest,python,django,webdeveloper,mysql,api\n",
            "More Infor: https://www.timesjobs.com/job-detail/python-developer-innovator-web-solutions-pvt-ltd-mumbai-5-to-8-yrs-jobid-OO__SLASH__Qb2Q7MfpzpSvf__PLUS__uAgZw==&source=srp\n",
            "----------------------------\n",
            "Company Name: pearlglobalsolutions\n",
            "Required Skills: python,database,django,teamplayer,sql\n",
            "More Infor: https://www.timesjobs.com/job-detail/python-developer-pearl-global-solutions-cochin-kochi-ernakulam-4-to-7-yrs-jobid-dZD__SLASH__NDlCjpVzpSvf__PLUS__uAgZw==&source=srp\n",
            "----------------------------\n",
            "Company Name: AxisTechnolabs\n",
            "Required Skills: python,django,itskills,html5,api,jquery\n",
            "More Infor: https://www.timesjobs.com/job-detail/python-odoo-axistechnolabs-ahmedabad-0-to-1-yrs-jobid-HzL8naalyxFzpSvf__PLUS__uAgZw==&source=srp\n",
            "----------------------------\n",
            "Company Name: CONNECTING2WORK\n",
            "Required Skills: python,storage,django,testingtools,debugging\n",
            "More Infor: https://www.timesjobs.com/job-detail/python-developer-connecting-2-work-thiruvananthapuram-5-to-10-yrs-jobid-Tebue__SLASH__8iTzVzpSvf__PLUS__uAgZw==&source=srp\n",
            "----------------------------\n",
            "Company Name: glanmanagementconsultancypvt.ltd.\n",
            "Required Skills: python,rdbms,mysql,cloudcomputing,docker,sql\n",
            "More Infor: https://www.timesjobs.com/job-detail/python-developer-glan-management-consultancy-pvt-ltd-noida-greater-noida-5-to-8-yrs-jobid-2yjhPFea__SLASH__AJzpSvf__PLUS__uAgZw==&source=srp\n",
            "----------------------------\n",
            "Company Name: CANVERATRADERSPRIVATELIMITED\n",
            "Required Skills: python,rdbms,javascript,sql,spring,springboot,django,java\n",
            "More Infor: https://www.timesjobs.com/job-detail/python-developer-canvera-traders-private-limited-bengaluru-bangalore-5-to-8-yrs-jobid-eyvQsuRYuMpzpSvf__PLUS__uAgZw==&source=srp\n",
            "----------------------------\n",
            "Company Name: GSLAB\n",
            "Required Skills: python,automation,networking,qamethodology,testmanagementtools,bugtracking\n",
            "More Infor: https://www.timesjobs.com/job-detail/python-automation-gs-lab-pune-3-to-5-yrs-jobid-X3M8iJrm__PLUS__nZzpSvf__PLUS__uAgZw==&source=srp\n",
            "----------------------------\n",
            "Company Name: CybageSoftwarePvtLtd\n",
            "Required Skills: python,html5,javascript,nosql,docker,django,softwaredeveloper,mongodb\n",
            "More Infor: https://www.timesjobs.com/job-detail/python-developer-cybage-software-pvt-ltd-gandhinagar-hyderabad-secunderabad-pune-4-to-7-yrs-jobid-GN9SDLPIUuJzpSvf__PLUS__uAgZw==&source=srp\n",
            "----------------------------\n",
            "Company Name: DoodleblueInnovationsPvtLtd\n",
            "Required Skills: python,database,django,git,html5,debugging,javascript,jquery\n",
            "More Infor: https://www.timesjobs.com/job-detail/python-developer-doodleblue-innovations-pvt-ltd-chennai-0-to-3-yrs-jobid-ZDWKX8wOZMlzpSvf__PLUS__uAgZw==&source=srp\n",
            "----------------------------\n",
            "Company Name: WBCSoftwareLab\n",
            "Required Skills: python,git,restapi,linux,mobile,mongodb,docker\n",
            "More Infor: https://www.timesjobs.com/job-detail/python-developer-wbc-software-lab-chennai-2-to-5-yrs-jobid-P78tL4SfAddzpSvf__PLUS__uAgZw==&source=srp\n",
            "----------------------------\n",
            "Company Name: NuageBiz.Tech\n",
            "Required Skills: python,mobile,teamplayer,svn,security,git,softwareengineering\n",
            "More Infor: https://www.timesjobs.com/job-detail/python-developer-nuagebiz-tech-noida-greater-noida-2-to-5-yrs-jobid-FzYRc8JWI0hzpSvf__PLUS__uAgZw==&source=srp\n",
            "----------------------------\n",
            "Company Name: AxisTechnolabs\n",
            "Required Skills: python,css,userinteraction,bootstrap,openerp,database,xml,oops,html\n",
            "More Infor: https://www.timesjobs.com/job-detail/python-developer-axistechnolabs-ahmedabad-0-to-1-yrs-jobid-UqL7KgAUov1zpSvf__PLUS__uAgZw==&source=srp\n",
            "----------------------------\n",
            "Company Name: pegasusknowledgesolutionsindiapvtltd.\n",
            "Required Skills: python,css,django,java,html,bootstrap,api,jquery,sql\n",
            "More Infor: https://www.timesjobs.com/job-detail/python-developer-pegasus-knowledge-solutions-india-pvt-ltd-bengaluru-bangalore-0-to-3-yrs-jobid-XiCKMhU2A29zpSvf__PLUS__uAgZw==&source=srp\n",
            "----------------------------\n"
          ]
        },
        {
          "output_type": "error",
          "ename": "KeyboardInterrupt",
          "evalue": "ignored",
          "traceback": [
            "\u001b[0;31m---------------------------------------------------------------------------\u001b[0m",
            "\u001b[0;31mKeyboardInterrupt\u001b[0m                         Traceback (most recent call last)",
            "\u001b[0;32m<ipython-input-108-94a81bd228fe>\u001b[0m in \u001b[0;36m<cell line: 27>\u001b[0;34m()\u001b[0m\n\u001b[1;32m     29\u001b[0m     \u001b[0mfind_jobs\u001b[0m\u001b[0;34m(\u001b[0m\u001b[0;34m)\u001b[0m\u001b[0;34m\u001b[0m\u001b[0;34m\u001b[0m\u001b[0m\n\u001b[1;32m     30\u001b[0m     \u001b[0mtime_wait\u001b[0m\u001b[0;34m=\u001b[0m\u001b[0;36m10\u001b[0m\u001b[0;34m\u001b[0m\u001b[0;34m\u001b[0m\u001b[0m\n\u001b[0;32m---> 31\u001b[0;31m     \u001b[0mtime\u001b[0m\u001b[0;34m.\u001b[0m\u001b[0msleep\u001b[0m\u001b[0;34m(\u001b[0m\u001b[0mtime_wait\u001b[0m \u001b[0;34m*\u001b[0m \u001b[0;36m60\u001b[0m\u001b[0;34m)\u001b[0m\u001b[0;34m\u001b[0m\u001b[0;34m\u001b[0m\u001b[0m\n\u001b[0m\u001b[1;32m     32\u001b[0m \u001b[0;34m\u001b[0m\u001b[0m\n",
            "\u001b[0;31mKeyboardInterrupt\u001b[0m: "
          ]
        }
      ]
    },
    {
      "cell_type": "code",
      "source": [],
      "metadata": {
        "id": "iF4XncUhT3jl"
      },
      "execution_count": null,
      "outputs": []
    }
  ]
}